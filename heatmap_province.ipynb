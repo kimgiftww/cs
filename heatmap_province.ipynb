{
 "cells": [
  {
   "cell_type": "code",
   "execution_count": 1,
   "id": "17896444",
   "metadata": {},
   "outputs": [
    {
     "name": "stderr",
     "output_type": "stream",
     "text": [
      "/usr/local/lib/python3.8/dist-packages/dash_bootstrap_components/_table.py:5: UserWarning: \n",
      "The dash_html_components package is deprecated. Please replace\n",
      "`import dash_html_components as html` with `from dash import html`\n",
      "  import dash_html_components as html\n"
     ]
    }
   ],
   "source": [
    "import pandas as pd\n",
    "import plotly.express as px\n",
    "from heatmap import dfmmp, nation"
   ]
  },
  {
   "cell_type": "code",
   "execution_count": 2,
   "id": "f21bb069",
   "metadata": {},
   "outputs": [
    {
     "data": {
      "text/plain": [
       "'1.3.4'"
      ]
     },
     "execution_count": 2,
     "metadata": {},
     "output_type": "execute_result"
    }
   ],
   "source": [
    "pd.__version__"
   ]
  },
  {
   "cell_type": "code",
   "execution_count": null,
   "id": "d37abd93",
   "metadata": {},
   "outputs": [],
   "source": [
    "def levelf(x):\n",
    "    if x > 80:\n",
    "        return 'Alert'\n",
    "    elif x > 60:\n",
    "        return 'Warning'\n",
    "    else:\n",
    "        return 'Safe'"
   ]
  },
  {
   "cell_type": "code",
   "execution_count": null,
   "id": "8b5ee706",
   "metadata": {},
   "outputs": [],
   "source": [
    "nd = 'Flood'\n",
    "num = ['saleid', 'sum_premium', 'coveramount']\n",
    "gb = ['future', 'suppliercode',\n",
    "      'region_c', 'PROVINCE', 'R_P',\n",
    "      'DISTRICT', 'R_P_A']\n",
    "ndfl = ['Flood', 'Storm', 'Hail', 'Quake']\n",
    "ndql = ['q_'+nd for nd in ndfl]\n",
    "ndl = ndfl+ndql\n",
    "col = gb+num+ndl\n",
    "fc = num + ndl\n",
    "fg = gb[1:4]"
   ]
  },
  {
   "cell_type": "code",
   "execution_count": null,
   "id": "d4202777",
   "metadata": {},
   "outputs": [],
   "source": [
    "dfm = pd.read_pickle('data/hdg.pickle')[col].fillna(0)  # +ndq\n",
    "dfm.future = dfm.future.astype(int)\n",
    "dfm = dfm.groupby(gb[:5])[fc].sum().reset_index()\n",
    "dfm = dfm.groupby(fg)[num + ndl].sum().reset_index()"
   ]
  },
  {
   "cell_type": "code",
   "execution_count": null,
   "id": "bfb734d2",
   "metadata": {},
   "outputs": [],
   "source": [
    "dfm['Percent'] = round((dfm[nd]/dfm['q_'+nd])*100, 2)\n",
    "dfm['Level'] = [levelf(x) for x in dfm.Percent]\n",
    "dfm['Count'] = 1"
   ]
  },
  {
   "cell_type": "code",
   "execution_count": null,
   "id": "8eee9e15",
   "metadata": {},
   "outputs": [],
   "source": [
    "ndl = [nd, 'q_'+nd]\n",
    "mc = ndl + ['sum_premium']  # , 'Percent'\n",
    "%time dfmms = dfmmp(dfm[['PROVINCE']+mc], nd)\n",
    "%time dfmms = nation(dfmms, nd)"
   ]
  },
  {
   "cell_type": "code",
   "execution_count": null,
   "id": "9d5553f4",
   "metadata": {},
   "outputs": [],
   "source": [
    "dfmms"
   ]
  },
  {
   "cell_type": "code",
   "execution_count": null,
   "id": "b7919c6d",
   "metadata": {},
   "outputs": [],
   "source": [
    "%time geojson = dfmms.geometry.__geo_interface__"
   ]
  },
  {
   "cell_type": "code",
   "execution_count": null,
   "id": "36671795",
   "metadata": {},
   "outputs": [],
   "source": [
    "%time len(geojson['features'])"
   ]
  },
  {
   "cell_type": "raw",
   "id": "c0e7bc76",
   "metadata": {},
   "source": [
    "%time geojson['features'][0]\n",
    "# {'id': '0',\n",
    "#  'type': 'Feature',\n",
    "#  'properties': {},\n",
    "#  'geometry': {'type': 'Polygon',\n",
    "#   'coordinates': (((104.87354279, 15.54769039),\n",
    "#     (104.87328339, 15.54797077),\n",
    "#     (104.87301636, 15.54804134),\n",
    "#     (104.872612, 15.54810143),\n",
    "#     (104.87216949, 15.54808044),\n",
    "#     (104.87188721, 15.54805088),\n",
    "#     (104.87161255, 15.54801178),\n",
    "#     (104.87133789, 15.54794979),\n",
    "#     (104.87107849, 15.54786968),\n",
    "#     (104.87081909, 15.54776096),\n",
    "#     (104.87058258, 15.54761982),\n",
    "#     (104.87033844, 15.54749203),"
   ]
  },
  {
   "cell_type": "markdown",
   "id": "80eefd91",
   "metadata": {},
   "source": [
    "# choropleth"
   ]
  },
  {
   "cell_type": "code",
   "execution_count": null,
   "id": "cbd9a133",
   "metadata": {},
   "outputs": [],
   "source": [
    "%%time\n",
    "fig = px.choropleth(dfmms, geojson=geojson, color=\"color\")\n",
    "#                     locations=\"district\",\n",
    "#                     featureidkey=\"properties.district\",\n",
    "#                     projection=\"mercator\"\n",
    "#                    )"
   ]
  },
  {
   "cell_type": "code",
   "execution_count": null,
   "id": "9080123a",
   "metadata": {},
   "outputs": [],
   "source": [
    "%time fig.show()"
   ]
  },
  {
   "cell_type": "markdown",
   "id": "5326f4d8",
   "metadata": {},
   "source": [
    "# choropleth_mapbox"
   ]
  },
  {
   "cell_type": "code",
   "execution_count": 4,
   "id": "2404ff4a",
   "metadata": {},
   "outputs": [
    {
     "data": {
      "text/plain": [
       "float"
      ]
     },
     "execution_count": 4,
     "metadata": {},
     "output_type": "execute_result"
    }
   ],
   "source": [
    "import math\n",
    "type(math.inf)"
   ]
  },
  {
   "cell_type": "code",
   "execution_count": 5,
   "id": "f8d7ae4d",
   "metadata": {},
   "outputs": [
    {
     "data": {
      "text/plain": [
       "dict_keys(['d'])"
      ]
     },
     "execution_count": 5,
     "metadata": {},
     "output_type": "execute_result"
    }
   ],
   "source": [
    "{'d':'d'}.keys()"
   ]
  },
  {
   "cell_type": "code",
   "execution_count": null,
   "id": "59167f81",
   "metadata": {},
   "outputs": [],
   "source": [
    "df_to_dict = df.to_dict('record's)[0]\n",
    "[ {  :    for i in df_to_dict.keys() } ]"
   ]
  },
  {
   "cell_type": "code",
   "execution_count": 7,
   "id": "eaed311a",
   "metadata": {},
   "outputs": [
    {
     "ename": "NameError",
     "evalue": "name 'df' is not defined",
     "output_type": "error",
     "traceback": [
      "\u001b[0;31m---------------------------------------------------------------------------\u001b[0m",
      "\u001b[0;31mNameError\u001b[0m                                 Traceback (most recent call last)",
      "\u001b[0;32m/tmp/ipykernel_559807/3910646179.py\u001b[0m in \u001b[0;36m<module>\u001b[0;34m\u001b[0m\n\u001b[0;32m----> 1\u001b[0;31m \u001b[0mdf_to_dict\u001b[0m \u001b[0;34m=\u001b[0m \u001b[0mdf\u001b[0m\u001b[0;34m.\u001b[0m\u001b[0mto_dict\u001b[0m\u001b[0;34m(\u001b[0m\u001b[0;34m'records'\u001b[0m\u001b[0;34m)\u001b[0m\u001b[0;34m[\u001b[0m\u001b[0;36m0\u001b[0m\u001b[0;34m]\u001b[0m\u001b[0;34m\u001b[0m\u001b[0;34m\u001b[0m\u001b[0m\n\u001b[0m\u001b[1;32m      2\u001b[0m \u001b[0;34m[\u001b[0m \u001b[0;34m{\u001b[0m \u001b[0;34m'_'\u001b[0m\u001b[0;34m.\u001b[0m\u001b[0mjoin\u001b[0m\u001b[0;34m(\u001b[0m\u001b[0;34m[\u001b[0m\u001b[0mi\u001b[0m\u001b[0;34m[\u001b[0m\u001b[0;36m0\u001b[0m\u001b[0;34m]\u001b[0m\u001b[0;34m,\u001b[0m\u001b[0mi\u001b[0m\u001b[0;34m[\u001b[0m\u001b[0;36m1\u001b[0m\u001b[0;34m]\u001b[0m\u001b[0;34m]\u001b[0m\u001b[0;34m)\u001b[0m \u001b[0;34m:\u001b[0m \u001b[0mdf_to_dict\u001b[0m\u001b[0;34m[\u001b[0m\u001b[0mi\u001b[0m\u001b[0;34m]\u001b[0m   \u001b[0;32mfor\u001b[0m \u001b[0mi\u001b[0m \u001b[0;32min\u001b[0m \u001b[0mdf_to_dict\u001b[0m\u001b[0;34m.\u001b[0m\u001b[0mkeys\u001b[0m\u001b[0;34m(\u001b[0m\u001b[0;34m)\u001b[0m \u001b[0;34m}\u001b[0m \u001b[0;34m]\u001b[0m\u001b[0;34m\u001b[0m\u001b[0;34m\u001b[0m\u001b[0m\n",
      "\u001b[0;31mNameError\u001b[0m: name 'df' is not defined"
     ]
    }
   ],
   "source": [
    "df_to_dict = df.to_dict('records')[0]\n",
    "[ { '_'.join([i[0],i[1]]) : df_to_dict[i]   for i in df_to_dict.keys() } ]"
   ]
  },
  {
   "cell_type": "code",
   "execution_count": null,
   "id": "30880c86",
   "metadata": {},
   "outputs": [],
   "source": []
  },
  {
   "cell_type": "code",
   "execution_count": null,
   "id": "157f5ef4",
   "metadata": {},
   "outputs": [],
   "source": []
  },
  {
   "cell_type": "code",
   "execution_count": null,
   "id": "361dc17e",
   "metadata": {},
   "outputs": [],
   "source": [
    "fig = px.choropleth_mapbox(df,\n",
    "                           geojson=geohson, locations='fips', color='unemp',\n",
    "                           color_continuous_scale=\"Viridis\",\n",
    "                           range_color=(0, 12),\n",
    "                           mapbox_style=\"carto-positron\",\n",
    "                           zoom=3, center = {\"lat\": 37.0902, \"lon\": -95.7129},\n",
    "                           opacity=0.5,\n",
    "                           labels={'unemp':'unemployment rate'}\n",
    "                          )"
   ]
  }
 ],
 "metadata": {
  "hide_input": false,
  "kernelspec": {
   "display_name": "Python 3 (ipykernel)",
   "language": "python",
   "name": "python3"
  },
  "language_info": {
   "codemirror_mode": {
    "name": "ipython",
    "version": 3
   },
   "file_extension": ".py",
   "mimetype": "text/x-python",
   "name": "python",
   "nbconvert_exporter": "python",
   "pygments_lexer": "ipython3",
   "version": "3.8.10"
  },
  "toc": {
   "base_numbering": 1,
   "nav_menu": {},
   "number_sections": true,
   "sideBar": true,
   "skip_h1_title": false,
   "title_cell": "Table of Contents",
   "title_sidebar": "Contents",
   "toc_cell": false,
   "toc_position": {},
   "toc_section_display": true,
   "toc_window_display": false
  },
  "varInspector": {
   "cols": {
    "lenName": 16,
    "lenType": 16,
    "lenVar": 40
   },
   "kernels_config": {
    "python": {
     "delete_cmd_postfix": "",
     "delete_cmd_prefix": "del ",
     "library": "var_list.py",
     "varRefreshCmd": "print(var_dic_list())"
    },
    "r": {
     "delete_cmd_postfix": ") ",
     "delete_cmd_prefix": "rm(",
     "library": "var_list.r",
     "varRefreshCmd": "cat(var_dic_list()) "
    }
   },
   "types_to_exclude": [
    "module",
    "function",
    "builtin_function_or_method",
    "instance",
    "_Feature"
   ],
   "window_display": false
  }
 },
 "nbformat": 4,
 "nbformat_minor": 5
}
